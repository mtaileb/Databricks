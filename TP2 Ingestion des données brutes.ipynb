{
 "cells": [
  {
   "cell_type": "code",
   "execution_count": 0,
   "metadata": {
    "application/vnd.databricks.v1+cell": {
     "cellMetadata": {
      "byteLimit": 2048000,
      "rowLimit": 10000
     },
     "inputWidgets": {},
     "nuid": "780a2b31-a3c2-48a4-abcc-d832f391ff34",
     "showTitle": false,
     "tableResultSettingsMap": {},
     "title": ""
    }
   },
   "outputs": [
    {
     "output_type": "stream",
     "name": "stdout",
     "output_type": "stream",
     "text": [
      "Out[6]: <pyspark.sql.streaming.query.StreamingQuery at 0x7fd173513130>"
     ]
    }
   ],
   "source": [
    "from pyspark.sql.types import DoubleType, IntegerType, StringType, StructType, StructField\n",
    "\n",
    "# Définir les variables utilisées dans le code ci-dessous\n",
    "file_path = \"/databricks-datasets/songs/data-001/\"  # Chemin des fichiers de données\n",
    "table_name = \"table\"  # Nom de la table Delta à créer\n",
    "checkpoint_path = \"/tmp/pipeline_get_started/_checkpoint/song_data\"  # Chemin pour stocker les checkpoints\n",
    "# Ingérer les données brutes\n",
    "\n",
    "# Définir le schéma des données\n",
    "schema = StructType(\n",
    "  [\n",
    "    StructField(\"artist_id\", StringType(), True),  # ID de l'artiste (chaîne de caractères)\n",
    "    StructField(\"artist_lat\", DoubleType(), True),  # Latitude de l'artiste (nombre décimal)\n",
    "    StructField(\"artist_long\", DoubleType(), True),  # Longitude de l'artiste (nombre décimal)\n",
    "    StructField(\"artist_location\", StringType(), True),  # Localisation de l'artiste (chaîne de caractères)\n",
    "    StructField(\"artist_name\", StringType(), True),  # Nom de l'artiste (chaîne de caractères)\n",
    "    StructField(\"duration\", DoubleType(), True),  # Durée de la chanson (nombre décimal)\n",
    "    StructField(\"end_of_fade_in\", DoubleType(), True),  # Fin du fade-in (nombre décimal)\n",
    "    StructField(\"key\", IntegerType(), True),  # Tonalité (nombre entier)\n",
    "    StructField(\"key_confidence\", DoubleType(), True),  # Confiance dans la tonalité (nombre décimal)\n",
    "    StructField(\"loudness\", DoubleType(), True),  # Niveau sonore (nombre décimal)\n",
    "    StructField(\"release\", StringType(), True),  # Nom de l'album ou de la sortie (chaîne de caractères)\n",
    "    StructField(\"song_hotnes\", DoubleType(), True),  # Popularité de la chanson (nombre décimal)\n",
    "    StructField(\"song_id\", StringType(), True),  # ID de la chanson (chaîne de caractères)\n",
    "    StructField(\"start_of_fade_out\", DoubleType(), True),  # Début du fade-out (nombre décimal)\n",
    "    StructField(\"tempo\", DoubleType(), True),  # Tempo de la chanson (nombre décimal)\n",
    "    StructField(\"time_signature\", DoubleType(), True),  # Signature temporelle (nombre décimal)\n",
    "    StructField(\"time_signature_confidence\", DoubleType(), True),  # Confiance dans la signature temporelle (nombre décimal)\n",
    "    StructField(\"title\", StringType(), True),  # Titre de la chanson (chaîne de caractères)\n",
    "    StructField(\"year\", IntegerType(), True),  # Année de sortie (nombre entier)\n",
    "    StructField(\"partial_sequence\", IntegerType(), True)  # Séquence partielle (nombre entier)\n",
    "  ]\n",
    ")\n",
    "\n",
    "# Lire les données en streaming et écrire dans une table Delta\n",
    "(spark.readStream\n",
    "  .format(\"cloudFiles\")  # Utiliser le connecteur cloudFiles pour gérer les fichiers entrants\n",
    "  .schema(schema)  # Appliquer le schéma défini\n",
    "  .option(\"cloudFiles.format\", \"csv\")  # Format des fichiers source : CSV\n",
    "  .option(\"sep\",\"\\t\")  # Séparateur des colonnes : tabulation\n",
    "  .load(file_path)  # Charger les fichiers à partir du chemin spécifié\n",
    "  .writeStream\n",
    "  .option(\"checkpointLocation\", checkpoint_path)  # Chemin pour stocker les checkpoints\n",
    "  .trigger(availableNow=True)  # Traiter toutes les données disponibles immédiatement\n",
    "  .toTable(table_name)  # Écrire les données dans une table Delta avec le nom spécifié\n",
    ")\n"
   ]
  }
 ],
 "metadata": {
  "application/vnd.databricks.v1+notebook": {
   "dashboards": [],
   "environmentMetadata": null,
   "language": "python",
   "notebookMetadata": {
    "pythonIndentUnit": 4
   },
   "notebookName": "TP2 Ingestion des données brutes",
   "widgets": {}
  }
 },
 "nbformat": 4,
 "nbformat_minor": 0
}
