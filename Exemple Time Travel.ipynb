{
 "cells": [
  {
   "cell_type": "code",
   "execution_count": 0,
   "metadata": {
    "application/vnd.databricks.v1+cell": {
     "cellMetadata": {},
     "inputWidgets": {},
     "nuid": "7420db41-2a6d-4700-a822-cda5d40d1684",
     "showTitle": false,
     "tableResultSettingsMap": {},
     "title": ""
    }
   },
   "outputs": [],
   "source": [
    "# Importer Spark SQL pour exécuter des commandes SQL\n",
    "from pyspark.sql import SparkSession\n",
    "\n",
    "# Créer une table Delta avec des données initiales\n",
    "spark.sql(\"\"\"\n",
    "CREATE TABLE delta.`/data/sales` (\n",
    "  id INT,\n",
    "  product STRING,\n",
    "  price DOUBLE\n",
    ") USING DELTA;\n",
    "\"\"\")"
   ]
  },
  {
   "cell_type": "code",
   "execution_count": 0,
   "metadata": {
    "application/vnd.databricks.v1+cell": {
     "cellMetadata": {
      "byteLimit": 2048000,
      "rowLimit": 10000
     },
     "inputWidgets": {},
     "nuid": "ed4ba0ed-ac73-4ef3-9557-2bff7f36e10c",
     "showTitle": false,
     "tableResultSettingsMap": {},
     "title": ""
    }
   },
   "outputs": [
    {
     "output_type": "stream",
     "name": "stdout",
     "output_type": "stream",
     "text": [
      "Version précédente de la table (version 0) :\n+---+-------+-----+\n| id|product|price|\n+---+-------+-----+\n+---+-------+-----+\n\nÉtat restauré de la table :\n+---+-------+-----+\n| id|product|price|\n+---+-------+-----+\n+---+-------+-----+\n\nHistorique des versions :\n+-------+-------------------+----------------+-------------------+------------+--------------------+----+------------------+--------------------+-----------+-----------------+-------------+--------------------+------------+--------------------+\n|version|          timestamp|          userId|           userName|   operation| operationParameters| job|          notebook|           clusterId|readVersion|   isolationLevel|isBlindAppend|    operationMetrics|userMetadata|          engineInfo|\n+-------+-------------------+----------------+-------------------+------------+--------------------+----+------------------+--------------------+-----------+-----------------+-------------+--------------------+------------+--------------------+\n|      6|2024-11-28 20:48:53|4346555630603199|mtaileb@laposte.net|     RESTORE|{version -> 0, ti...|null|{2447094373965681}|1128-193050-nv0w586c|          5|     Serializable|        false|{numRestoredFiles...|        null|Databricks-Runtim...|\n|      5|2024-11-28 20:48:45|4346555630603199|mtaileb@laposte.net|      UPDATE|{predicate -> [\"(...|null|{2447094373965681}|1128-193050-nv0w586c|          4|WriteSerializable|        false|{numRemovedFiles ...|        null|Databricks-Runtim...|\n|      4|2024-11-28 20:48:39|4346555630603199|mtaileb@laposte.net|       WRITE|{mode -> Append, ...|null|{2447094373965681}|1128-193050-nv0w586c|          3|WriteSerializable|         true|{numFiles -> 1, n...|        null|Databricks-Runtim...|\n|      3|2024-11-28 20:46:52|4346555630603199|mtaileb@laposte.net|     RESTORE|{version -> 0, ti...|null|{2447094373965681}|1128-193050-nv0w586c|          2|     Serializable|        false|{numRestoredFiles...|        null|Databricks-Runtim...|\n|      2|2024-11-28 20:46:44|4346555630603199|mtaileb@laposte.net|      UPDATE|{predicate -> [\"(...|null|{2447094373965681}|1128-193050-nv0w586c|          1|WriteSerializable|        false|{numRemovedFiles ...|        null|Databricks-Runtim...|\n|      1|2024-11-28 20:46:39|4346555630603199|mtaileb@laposte.net|       WRITE|{mode -> Append, ...|null|{2447094373965681}|1128-193050-nv0w586c|          0|WriteSerializable|         true|{numFiles -> 1, n...|        null|Databricks-Runtim...|\n|      0|2024-11-28 20:46:30|4346555630603199|mtaileb@laposte.net|CREATE TABLE|{isManaged -> fal...|null|{2447094373965681}|1128-193050-nv0w586c|       null|WriteSerializable|         true|                  {}|        null|Databricks-Runtim...|\n+-------+-------------------+----------------+-------------------+------------+--------------------+----+------------------+--------------------+-----------+-----------------+-------------+--------------------+------------+--------------------+\n\n"
     ]
    }
   ],
   "source": [
    "\n",
    "\n",
    "# Insérer des données initiales dans la table Delta\n",
    "spark.sql(\"\"\"\n",
    "INSERT INTO delta.`/data/sales`\n",
    "VALUES\n",
    "  (1, 'Produit A', 100),\n",
    "  (2, 'Produit B', 200);\n",
    "\"\"\")\n",
    "\n",
    "# Modifier les données dans la table Delta\n",
    "spark.sql(\"\"\"\n",
    "UPDATE delta.`/data/sales`\n",
    "SET price = 150\n",
    "WHERE id = 1;\n",
    "\"\"\")\n",
    "\n",
    "# Consulter une version précédente de la table Delta (version 0)\n",
    "previous_version = spark.sql(\"\"\"\n",
    "SELECT * FROM delta.`/data/sales` VERSION AS OF 0;\n",
    "\"\"\")\n",
    "print(\"Version précédente de la table (version 0) :\")\n",
    "previous_version.show()\n",
    "\n",
    "# Restaurer la table Delta à son état initial (version 0)\n",
    "spark.sql(\"\"\"\n",
    "RESTORE TABLE delta.`/data/sales`\n",
    "TO VERSION AS OF 0;\n",
    "\"\"\")\n",
    "\n",
    "# Vérifier l'état restauré\n",
    "restored_data = spark.sql(\"\"\"\n",
    "SELECT * FROM delta.`/data/sales`;\n",
    "\"\"\")\n",
    "print(\"État restauré de la table :\")\n",
    "restored_data.show()\n",
    "\n",
    "# Lister les versions disponibles dans l'historique de la table Delta\n",
    "history = spark.sql(\"\"\"\n",
    "DESCRIBE HISTORY delta.`/data/sales`;\n",
    "\"\"\")\n",
    "print(\"Historique des versions :\")\n",
    "history.show()"
   ]
  }
 ],
 "metadata": {
  "application/vnd.databricks.v1+notebook": {
   "dashboards": [],
   "environmentMetadata": null,
   "language": "python",
   "notebookMetadata": {
    "pythonIndentUnit": 4
   },
   "notebookName": "Exemple Time Travel",
   "widgets": {}
  }
 },
 "nbformat": 4,
 "nbformat_minor": 0
}
